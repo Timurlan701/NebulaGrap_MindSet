{
 "cells": [
  {
   "cell_type": "code",
   "execution_count": null,
   "id": "89d39a5c",
   "metadata": {},
   "outputs": [],
   "source": [
    "# Создание датафрейма из исходной таблицы\n",
    "import pandas as pd\n",
    "from nebula3.gclient.net import ConnectionPool\n",
    "from nebula3.Config import Config\n",
    "import time\n",
    "\n",
    "df = pd.read_csv('data_test.csv', sep = ';', header = 0)\n",
    "print(df.info(),'\\n','\\n', df.head(),'\\n','\\n', df.tail())"
   ]
  },
  {
   "cell_type": "code",
   "execution_count": null,
   "id": "0e956d6b",
   "metadata": {},
   "outputs": [],
   "source": [
    "# Проверка количества уникальных значений по столбцам\n",
    "for i in range(df.shape[1]):\n",
    "    print(df.columns[i],'=', len(df.iloc[:, i].drop_duplicates()))"
   ]
  },
  {
   "cell_type": "code",
   "execution_count": null,
   "id": "98944c1b",
   "metadata": {},
   "outputs": [],
   "source": [
    "# Стандартное подключение к БД\n",
    "config = Config()\n",
    "config.max_connection_pool_size = 10\n",
    "\n",
    "connection_pool = ConnectionPool()\n",
    "\n",
    "ok = connection_pool.init([('127.0.0.1', 9669)], config)\n",
    "session = connection_pool.get_session('root', 'nebula')"
   ]
  },
  {
   "cell_type": "code",
   "execution_count": null,
   "id": "e942b0b6",
   "metadata": {},
   "outputs": [],
   "source": [
    "print(df.columns[1], df.columns[2], df.columns[0])"
   ]
  },
  {
   "cell_type": "code",
   "execution_count": null,
   "id": "4c2b537b",
   "metadata": {},
   "outputs": [],
   "source": [
    "# Формирование пространства БД, тегов и ребер \n",
    "session.execute('CREATE SPACE IF NOT EXISTS data_1503 ('\n",
    "        'PARTITION_NUM=15,'\n",
    "        'vid_type=FIXED_STRING(100));'\n",
    "        'USE data_1503;'\n",
    "        'CREATE TAG IF NOT EXISTS `{}`(name string);'\n",
    "        'CREATE TAG IF NOT EXISTS `{}`(name string);'\n",
    "        'CREATE EDGE IF NOT EXISTS `{}`(id int)'.format(df.columns[1], df.columns[2], df.columns[0])\n",
    "        )"
   ]
  },
  {
   "cell_type": "code",
   "execution_count": null,
   "id": "292ea6cd",
   "metadata": {},
   "outputs": [],
   "source": [
    "# Проверка созданного пространства БД, наличия тегов и ребер\n",
    "print(session.execute('SHOW HOSTS'))\n",
    "print(session.execute('SHOW TAGS'))\n",
    "print(session.execute('SHOW EDGES'))          "
   ]
  },
  {
   "cell_type": "code",
   "execution_count": null,
   "id": "04d34591",
   "metadata": {},
   "outputs": [],
   "source": [
    "%%time\n",
    "i = 0\n",
    "for row in df.itertuples(index = False):\n",
    "    session.execute('INSERT VERTEX IF NOT EXISTS `{}`(name) VALUES \"{}\":(\"{}\");'\n",
    "                    'INSERT VERTEX IF NOT EXISTS `{}`(name) VALUES \"{}\":(\"{}\");'\n",
    "                    'INSERT EDGE IF NOT EXISTS `{}`(id) VALUES \"{}\"->\"{}\":({})' \\\n",
    "                    .format(df.columns[1], row[1], row[1], df.columns[2], row[2], row[2],\\\n",
    "                     df.columns[0], row[1], row[2], row[0])\n",
    "                   )"
   ]
  },
  {
   "cell_type": "code",
   "execution_count": null,
   "id": "0cb46d3e",
   "metadata": {},
   "outputs": [],
   "source": [
    "# Статистика по БД\n",
    "session.execute('SUBMIT JOB STATS')"
   ]
  },
  {
   "cell_type": "code",
   "execution_count": null,
   "id": "0bea9809",
   "metadata": {},
   "outputs": [],
   "source": [
    "# Проверка совпадения количества вершин\n",
    "session.execute('SHOW STATS')"
   ]
  },
  {
   "cell_type": "code",
   "execution_count": null,
   "id": "b42c80cd",
   "metadata": {},
   "outputs": [],
   "source": [
    "# Типовые запросы к БД\n",
    "# Поиск всех участников 2 и номера `id события` с помощью GO по vid участника 1 \n",
    "print(session.execute('GO FROM \"Галчевская Карина Владимировна\" OVER `id события` \\\n",
    "                      YIELD `id события`.id AS `id`, id($$) AS `Участник события 2`'))\n",
    "\n",
    "# Поиск всех участников 1 и номера `id события` с помощью GO по vid участника 2 по ребру\n",
    "# `id события` в обратном направлении \n",
    "print(session.execute('GO FROM \"Жилейкин Виктор Павлович\" OVER `id события` REVERSELY \\\n",
    "                      YIELD `id события`.id AS `id`, id($$) AS `Участник события 1`'))"
   ]
  },
  {
   "cell_type": "code",
   "execution_count": null,
   "id": "19317b5c",
   "metadata": {},
   "outputs": [],
   "source": [
    "# Избыточно\n",
    "# Поиск номера `id события` с помощью GO и FETCH по vid участника 1\n",
    "print(session.execute('GO FROM \"Офицеров Олег Романович\" OVER `id события` \\\n",
    "                      YIELD src(edge) AS s, dst(edge) AS d | \\\n",
    "                      FETCH PROP ON `id события` $-.s -> $-.d \\\n",
    "                      YIELD properties(edge).id AS `id`, dst(edge) AS `Участник события 2`'))\n",
    "\n",
    "# Поиск номера `id события` с помощью GO и FETCH по vid участника 2 в обратном направлении\n",
    "print(session.execute('GO FROM \"Чемодуров Дамир Русланович\" OVER `id события` REVERSELY \\\n",
    "                      YIELD src(edge) AS s, dst(edge) AS d | \\\n",
    "                      FETCH PROP ON `id события` $-.s -> $-.d \\\n",
    "                      YIELD properties(edge).id AS id, src(edge) AS `Участник события 1`'))"
   ]
  },
  {
   "cell_type": "code",
   "execution_count": null,
   "id": "318d801b",
   "metadata": {},
   "outputs": [],
   "source": [
    "# Поиск с помощью MATCH\n",
    "print(session.execute('MATCH (a:`ФИО участника события 1`) \\\n",
    "                      RETURN a.`ФИО участника события 1`.name LIMIT 10'))\n",
    "print(session.execute('MATCH (a)-[e]->(b) WHERE id(a)==\"Офицеров Олег Романович\" \\\n",
    "                      RETURN properties(e) AS `id`, id(b) AS `Участник события 2`'))"
   ]
  },
  {
   "cell_type": "code",
   "execution_count": null,
   "id": "a6010a10",
   "metadata": {},
   "outputs": [],
   "source": [
    "# session.execute('CLEAR SPACE data_1503')"
   ]
  },
  {
   "cell_type": "code",
   "execution_count": null,
   "id": "1c599666",
   "metadata": {},
   "outputs": [],
   "source": [
    "# session.execute('DROP SPACE data_1503')"
   ]
  },
  {
   "cell_type": "code",
   "execution_count": null,
   "id": "af35d70e",
   "metadata": {},
   "outputs": [],
   "source": [
    "# release session\n",
    "session.release()"
   ]
  },
  {
   "cell_type": "code",
   "execution_count": null,
   "id": "d5b65305",
   "metadata": {},
   "outputs": [],
   "source": [
    "connection_pool.close()"
   ]
  }
 ],
 "metadata": {
  "kernelspec": {
   "display_name": "Python 3 (ipykernel)",
   "language": "python",
   "name": "python3"
  },
  "language_info": {
   "codemirror_mode": {
    "name": "ipython",
    "version": 3
   },
   "file_extension": ".py",
   "mimetype": "text/x-python",
   "name": "python",
   "nbconvert_exporter": "python",
   "pygments_lexer": "ipython3",
   "version": "3.9.13"
  },
  "varInspector": {
   "cols": {
    "lenName": 16,
    "lenType": 16,
    "lenVar": 40
   },
   "kernels_config": {
    "python": {
     "delete_cmd_postfix": "",
     "delete_cmd_prefix": "del ",
     "library": "var_list.py",
     "varRefreshCmd": "print(var_dic_list())"
    },
    "r": {
     "delete_cmd_postfix": ") ",
     "delete_cmd_prefix": "rm(",
     "library": "var_list.r",
     "varRefreshCmd": "cat(var_dic_list()) "
    }
   },
   "types_to_exclude": [
    "module",
    "function",
    "builtin_function_or_method",
    "instance",
    "_Feature"
   ],
   "window_display": false
  }
 },
 "nbformat": 4,
 "nbformat_minor": 5
}
